{
 "cells": [
  {
   "cell_type": "markdown",
   "metadata": {},
   "source": [
    "<b>Dans ce programme, j'ai créé tout d’abord une « Numpy array » selon les désires de l’utilisateur de par la taille et les éléments qui la constitue. <b><br>\n",
    "<b>Puis j’utilise la fonction <em>tolist() </em> qui est une méthode de numpy qui permet de transformer les tableaux (matrices) de numpy en liste.<b>\n"
   ]
  },
  {
   "cell_type": "code",
   "execution_count": null,
   "metadata": {
    "scrolled": true
   },
   "outputs": [],
   "source": [
    "import numpy as np\n",
    "\n",
    "while True:\n",
    "    try:\n",
    "        n=int(input(\"give the number of row you want: \"))\n",
    "        m=int(input(\"give the number of column you want: \"))\n",
    "        if n>0 and m>0:\n",
    "            break\n",
    "    except ValueError:\n",
    "        print(\"there is problem with your number, check it out\")\n",
    "\n",
    "a=np.empty((n,m))\n",
    "for i in range(0,n):\n",
    "    for j in range(0,m):\n",
    "        try:\n",
    "            print(\"give the element with the index \",i,j,\":\")\n",
    "            a[i][j]=int(input())\n",
    "        except ValueError:\n",
    "            print()\n",
    "def np2list(list1):\n",
    "    b=list1.tolist()\n",
    "    print(\"\\n\",\"Original array elements: \",a)\n",
    "    print(\"\\n\",\"Array to list: \",b)\n",
    "    \n",
    "np2list(a)"
   ]
  }
 ],
 "metadata": {
  "kernelspec": {
   "display_name": "Python 3",
   "language": "python",
   "name": "python3"
  },
  "language_info": {
   "codemirror_mode": {
    "name": "ipython",
    "version": 3
   },
   "file_extension": ".py",
   "mimetype": "text/x-python",
   "name": "python",
   "nbconvert_exporter": "python",
   "pygments_lexer": "ipython3",
   "version": "3.7.7"
  }
 },
 "nbformat": 4,
 "nbformat_minor": 4
}
