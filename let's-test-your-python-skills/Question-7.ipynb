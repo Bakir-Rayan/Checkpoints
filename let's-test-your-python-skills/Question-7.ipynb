{
 "cells": [
  {
   "cell_type": "markdown",
   "metadata": {},
   "source": [
    "<b>Calcule de la formule pour une séquence donnée sous une certaine forme</b>"
   ]
  },
  {
   "cell_type": "code",
   "execution_count": null,
   "metadata": {},
   "outputs": [],
   "source": [
    "C=50\n",
    "H=30\n",
    "while True:\n",
    "    try:\n",
    "        D=input(\"Give the comma separated sequence \").split(\",\")\n",
    "        for d in range(0,len(D)):\n",
    "            D[d]=int(D[d])\n",
    "        break\n",
    "    except ValueError:\n",
    "        print(\"the squence must be comma separated and contain only numbers\")\n",
    "s=[]\n",
    "for i in D:\n",
    "    Q=((2*C*i)/H)**(1/2)\n",
    "    s.append(str(round(Q))) # round is the python bult-in func which round the float output\n",
    "print(\"the output is:\", (\",\").join(s))"
   ]
  }
 ],
 "metadata": {
  "kernelspec": {
   "display_name": "Python 3",
   "language": "python",
   "name": "python3"
  },
  "language_info": {
   "codemirror_mode": {
    "name": "ipython",
    "version": 3
   },
   "file_extension": ".py",
   "mimetype": "text/x-python",
   "name": "python",
   "nbconvert_exporter": "python",
   "pygments_lexer": "ipython3",
   "version": "3.7.7"
  }
 },
 "nbformat": 4,
 "nbformat_minor": 4
}
