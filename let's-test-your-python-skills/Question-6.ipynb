{
 "cells": [
  {
   "cell_type": "markdown",
   "metadata": {},
   "source": [
    " <b>Calcule de la covariance</b>"
   ]
  },
  {
   "cell_type": "code",
   "execution_count": null,
   "metadata": {},
   "outputs": [],
   "source": [
    "import numpy as np\n",
    "\n",
    "\n",
    "def np_array():\n",
    "    while True:\n",
    "        try:\n",
    "            n=int(input(\"give the number of row you want: \"))\n",
    "            m=int(input(\"give the number of column you want: \"))\n",
    "            if n>0 and m>0:\n",
    "                break\n",
    "        except ValueError:\n",
    "            print(\"there is problem with your number, check it out\")\n",
    "\n",
    "    a=np.empty((n,m))\n",
    "    for i in range(0,n):\n",
    "        for j in range(0,m):\n",
    "            try:\n",
    "                print(\"give the element with the index \",i,j,\":\")\n",
    "                a[i][j]=int(input())\n",
    "            except ValueError:\n",
    "                print()\n",
    "    return a\n",
    "\n",
    "def covariance(x,y):\n",
    "    cov_matrix=np.cov(x, y) # cov is numpy func which calculate the covariance\n",
    "    print(\"Original array1: \", x, end=\"\\n\")\n",
    "    print(\"Original array2: \", y, end=\"\\n\")\n",
    "    print(\"Covariance matrix of the said arrays: \", cov_matrix, end=\"\\n\")\n",
    "\n",
    "array1=np_array()\n",
    "array2=np_array()\n",
    "\n",
    "covariance(array1,array2)\n"
   ]
  }
 ],
 "metadata": {
  "kernelspec": {
   "display_name": "Python 3",
   "language": "python",
   "name": "python3"
  },
  "language_info": {
   "codemirror_mode": {
    "name": "ipython",
    "version": 3
   },
   "file_extension": ".py",
   "mimetype": "text/x-python",
   "name": "python",
   "nbconvert_exporter": "python",
   "pygments_lexer": "ipython3",
   "version": "3.7.7"
  }
 },
 "nbformat": 4,
 "nbformat_minor": 4
}
