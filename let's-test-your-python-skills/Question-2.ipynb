{
 "cells": [
  {
   "cell_type": "markdown",
   "metadata": {},
   "source": [
    "<b>Dans ce programme j'ai utilisé la boucle <em>while</em> qui est toujours active tant que l'utilisateur n'introduis pas une entrée de type <em>int</em>.</b><br>\n",
    "<b>Et cela grâce au block <em>try except</em> qui permet de vérifier dans ce programme si l'entrée et bien un nombre. </b>"
   ]
  },
  {
   "cell_type": "code",
   "execution_count": null,
   "metadata": {},
   "outputs": [],
   "source": [
    "while True:\n",
    "    try:\n",
    "        x=int(input(\"Give the number for which you want the factorial : \")) # on converti l'input en un nombre de type int\n",
    "        break # on arrête la boucle dès que la conversion est faite et aucune erreur n'est lever\n",
    "    except ValueError:\n",
    "        print(\"this is not a number\")\n",
    "sum = 1\n",
    "for i in range(1,x+1):\n",
    "    sum = sum * i\n",
    "print(sum)"
   ]
  }
 ],
 "metadata": {
  "kernelspec": {
   "display_name": "Python 3",
   "language": "python",
   "name": "python3"
  },
  "language_info": {
   "codemirror_mode": {
    "name": "ipython",
    "version": 3
   },
   "file_extension": ".py",
   "mimetype": "text/x-python",
   "name": "python",
   "nbconvert_exporter": "python",
   "pygments_lexer": "ipython3",
   "version": "3.7.7"
  }
 },
 "nbformat": 4,
 "nbformat_minor": 4
}
