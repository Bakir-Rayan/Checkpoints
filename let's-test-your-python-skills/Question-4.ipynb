{
 "cells": [
  {
   "cell_type": "markdown",
   "metadata": {},
   "source": [
    "<b>Dans ce programme, on commence par demande le mot dont on doit enlever une lettre et l'index de cette lettre.</b><br>\n",
    "<b>Puis on vérifie si l'index est bien dans l'intervalle de 0 à la longueur du mot moins 1 .</b><br>\n",
    "<b>P.S. j'ai utilisé input pour éviter toutes élévation d'erreur sans explication claire</b>"
   ]
  },
  {
   "cell_type": "code",
   "execution_count": null,
   "metadata": {},
   "outputs": [],
   "source": [
    "while True:\n",
    "    try:\n",
    "        wordgiven=input(\"Give the word from which you want to remove one of its letters: \")\n",
    "        if len(wordgiven)>0:\n",
    "            break\n",
    "        else:\n",
    "            raise ValueError\n",
    "    except ValueError:\n",
    "        print(\"you didn't give any word\")\n",
    "while True:\n",
    "    try:\n",
    "        index=int(input(\"Give the index of the letter\"))\n",
    "        if index>=0 and index<len(wordgiven):\n",
    "            break\n",
    "    except ValueError:\n",
    "        print(\"this is not a number\")\n",
    "    else:\n",
    "        print(\"the number you choose is not in the range, you should choose one above or equal to 0 and under\", len(wordgiven))\n",
    "        \n",
    "def missing_char(word,n):\n",
    "    x=list(word)\n",
    "    x.pop(n)\n",
    "    return \"\".join(x)\n",
    "    \n",
    "missing_char(wordgiven,index)"
   ]
  }
 ],
 "metadata": {
  "kernelspec": {
   "display_name": "Python 3",
   "language": "python",
   "name": "python3"
  },
  "language_info": {
   "codemirror_mode": {
    "name": "ipython",
    "version": 3
   },
   "file_extension": ".py",
   "mimetype": "text/x-python",
   "name": "python",
   "nbconvert_exporter": "python",
   "pygments_lexer": "ipython3",
   "version": "3.7.7"
  }
 },
 "nbformat": 4,
 "nbformat_minor": 4
}
