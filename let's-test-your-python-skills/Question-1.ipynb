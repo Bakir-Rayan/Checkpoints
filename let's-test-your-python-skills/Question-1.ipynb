{
 "cells": [
  {
   "cell_type": "markdown",
   "metadata": {},
   "source": [
    "<b>Les nombres que l'on cherche doivent être divisible par 7 et non divisible par 5 d'où le % qui signifie le reste d'une division</b><br>\n",
    "<b>Dans la première partie de la condition <em>i % 7 == 0</em> on cherche à avoir le reste de la division par 7 qui égale a 0</b><br>\n",
    "<b>Dans la deuxième partie c'est tout le contraire, le reste de la division par 5 doit être diffèrent de 0</b><br>\n",
    "<b>J’ai utilisé pris avec <em> end=\" --\" </em> pour que tous les nombres soit complet et non séparée (une moitié dans chaque ligne)</b>"
   ]
  },
  {
   "cell_type": "code",
   "execution_count": null,
   "metadata": {},
   "outputs": [],
   "source": [
    "for i in range(2000,3200):\n",
    "    if (i%7)==0 and (i%5)!=0:                    \n",
    "        print(i, end=' -- ')"
   ]
  }
 ],
 "metadata": {
  "kernelspec": {
   "display_name": "Python 3",
   "language": "python",
   "name": "python3"
  },
  "language_info": {
   "codemirror_mode": {
    "name": "ipython",
    "version": 3
   },
   "file_extension": ".py",
   "mimetype": "text/x-python",
   "name": "python",
   "nbconvert_exporter": "python",
   "pygments_lexer": "ipython3",
   "version": "3.7.7"
  }
 },
 "nbformat": 4,
 "nbformat_minor": 4
}
