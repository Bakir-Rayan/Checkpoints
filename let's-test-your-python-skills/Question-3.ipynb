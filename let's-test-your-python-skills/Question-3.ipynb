{
 "cells": [
  {
   "cell_type": "markdown",
   "metadata": {},
   "source": [
    "<b>on ajouter à la fin du dictionnaire un item dont le KEY est égale au nombre i de la boucle <em>for</em> et VALUE est le carré de ce même nombre.</b>"
   ]
  },
  {
   "cell_type": "code",
   "execution_count": null,
   "metadata": {},
   "outputs": [],
   "source": [
    "while True:\n",
    "    try:\n",
    "        x=int(input(\"give the number for how many item should be on the output: \"))\n",
    "        break\n",
    "    except ValueError:\n",
    "        print(\"this is not a number\")\n",
    "out=dict()\n",
    "for i in range(1,x+1):\n",
    "    out[i]=i*i \n",
    "print(out)"
   ]
  }
 ],
 "metadata": {
  "kernelspec": {
   "display_name": "Python 3",
   "language": "python",
   "name": "python3"
  },
  "language_info": {
   "codemirror_mode": {
    "name": "ipython",
    "version": 3
   },
   "file_extension": ".py",
   "mimetype": "text/x-python",
   "name": "python",
   "nbconvert_exporter": "python",
   "pygments_lexer": "ipython3",
   "version": "3.7.7"
  }
 },
 "nbformat": 4,
 "nbformat_minor": 4
}
